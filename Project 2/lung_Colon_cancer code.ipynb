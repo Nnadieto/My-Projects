{
 "cells": [
  {
   "cell_type": "markdown",
   "metadata": {},
   "source": [
    "## NNADIETO CHISOM DAVID"
   ]
  },
  {
   "cell_type": "code",
   "execution_count": 3,
   "metadata": {
    "colab": {
     "base_uri": "https://localhost:8080/"
    },
    "id": "gCBwKrRvPaHM",
    "outputId": "9190a2ac-f840-4707-9572-c14ad22f9b39"
   },
   "outputs": [
    {
     "name": "stdout",
     "output_type": "stream",
     "text": [
      "Mounted at /content/drive\n",
      "Drive already mounted at /content/drive; to attempt to forcibly remount, call drive.mount(\"/content/drive\", force_remount=True).\n"
     ]
    }
   ],
   "source": [
    "from google.colab import drive\n",
    "drive.mount('/content/drive')"
   ]
  },
  {
   "cell_type": "code",
   "execution_count": 4,
   "metadata": {
    "id": "mYPSmLiXPJnQ"
   },
   "outputs": [],
   "source": [
    "import os\n",
    "os.environ['KAGGLE_CONFIG_DIR'] = \"/content/drive/MyDrive/Lung_cancer_dec\""
   ]
  },
  {
   "cell_type": "code",
   "execution_count": 5,
   "metadata": {
    "colab": {
     "base_uri": "https://localhost:8080/"
    },
    "id": "YDecPuGHPatS",
    "outputId": "c5511e6e-ac34-41a0-8bfa-23d929a119fa"
   },
   "outputs": [
    {
     "name": "stdout",
     "output_type": "stream",
     "text": [
      "/content/drive/.shortcut-targets-by-id/1NMTeObEmUH9aOC4W10wVV3AQGs0Lmq-Q/Lung_cancer_dec\n"
     ]
    }
   ],
   "source": [
    "%cd /content/drive/MyDrive/Lung_cancer_dec"
   ]
  },
  {
   "cell_type": "code",
   "execution_count": 6,
   "metadata": {
    "colab": {
     "base_uri": "https://localhost:8080/"
    },
    "id": "8vKS3ixsPpKt",
    "outputId": "def1c905-1ede-4f6d-a252-ae2cd05e166b"
   },
   "outputs": [
    {
     "name": "stdout",
     "output_type": "stream",
     "text": [
      "c_celss.h5\n",
      "detecting-lung-cancer-vgg16-resnet-efficientnet.ipynb\n",
      "eval_result.csv\n",
      "kaggle.json\n",
      "lung-and-colon-cancer-histopathological-images.zip\n",
      "lung_colon_image_set\n"
     ]
    }
   ],
   "source": [
    "!ls"
   ]
  },
  {
   "cell_type": "code",
   "execution_count": 7,
   "metadata": {
    "id": "Zp_6913hSopH"
   },
   "outputs": [],
   "source": [
    "#import libraries\n",
    "import os\n",
    "from sklearn.metrics import f1_score\n",
    "import matplotlib.pyplot as plt\n",
    "import numpy as np\n",
    "import pandas as pd\n",
    "from sklearn.metrics import classification_report\n",
    "import tensorflow as tf\n",
    "from tensorflow.keras import layers\n",
    "from keras import layers, models, regularizers\n",
    "import tensorflow as tf\n",
    "import cv2\n",
    "import numpy as np\n",
    "from tqdm import tqdm\n",
    "from sklearn.metrics import confusion_matrix"
   ]
  },
  {
   "cell_type": "code",
   "execution_count": 8,
   "metadata": {
    "id": "kA6XJhoZXaOF"
   },
   "outputs": [],
   "source": [
    "#datasets\n",
    "data_1 = '/content/drive/MyDrive/Lung_cancer_dec/lung_colon_image_set/lung_image_sets'\n",
    "data_2 = '/content/drive/MyDrive/Lung_cancer_dec/lung_colon_image_set/colon_image_sets'"
   ]
  },
  {
   "cell_type": "code",
   "execution_count": 9,
   "metadata": {
    "colab": {
     "base_uri": "https://localhost:8080/"
    },
    "id": "wldZCNKDGyVH",
    "outputId": "8c692880-b28b-4c7d-98e4-1af9522ad092"
   },
   "outputs": [
    {
     "name": "stdout",
     "output_type": "stream",
     "text": [
      "/content/drive/MyDrive/Lung_cancer_dec/lung_colon_image_set/lung_image_sets/lung_aca\n",
      "*************\n"
     ]
    },
    {
     "name": "stderr",
     "output_type": "stream",
     "text": [
      "100%|██████████| 5000/5000 [01:59<00:00, 41.77it/s]\n"
     ]
    },
    {
     "name": "stdout",
     "output_type": "stream",
     "text": [
      "/content/drive/MyDrive/Lung_cancer_dec/lung_colon_image_set/lung_image_sets/lung_n\n",
      "*************\n"
     ]
    },
    {
     "name": "stderr",
     "output_type": "stream",
     "text": [
      "100%|██████████| 5000/5000 [01:44<00:00, 47.69it/s] \n"
     ]
    },
    {
     "name": "stdout",
     "output_type": "stream",
     "text": [
      "/content/drive/MyDrive/Lung_cancer_dec/lung_colon_image_set/lung_image_sets/lung_scc\n",
      "*************\n"
     ]
    },
    {
     "name": "stderr",
     "output_type": "stream",
     "text": [
      "100%|██████████| 5000/5000 [01:58<00:00, 42.11it/s] \n"
     ]
    },
    {
     "name": "stdout",
     "output_type": "stream",
     "text": [
      "/content/drive/MyDrive/Lung_cancer_dec/lung_colon_image_set/colon_image_sets/colon_aca\n",
      "*************\n"
     ]
    },
    {
     "name": "stderr",
     "output_type": "stream",
     "text": [
      "100%|██████████| 5000/5000 [02:01<00:00, 41.20it/s]\n"
     ]
    },
    {
     "name": "stdout",
     "output_type": "stream",
     "text": [
      "/content/drive/MyDrive/Lung_cancer_dec/lung_colon_image_set/colon_image_sets/colon_n\n",
      "*************\n"
     ]
    },
    {
     "name": "stderr",
     "output_type": "stream",
     "text": [
      "100%|██████████| 5000/5000 [02:01<00:00, 41.01it/s]\n"
     ]
    },
    {
     "name": "stdout",
     "output_type": "stream",
     "text": [
      "/content/drive/MyDrive/Lung_cancer_dec/lung_colon_image_set/lung_image_sets/lung_aca\n",
      "*************\n"
     ]
    },
    {
     "name": "stderr",
     "output_type": "stream",
     "text": [
      "100%|██████████| 5000/5000 [00:00<00:00, 1123394.04it/s]\n"
     ]
    },
    {
     "name": "stdout",
     "output_type": "stream",
     "text": [
      "/content/drive/MyDrive/Lung_cancer_dec/lung_colon_image_set/lung_image_sets/lung_n\n",
      "*************\n"
     ]
    },
    {
     "name": "stderr",
     "output_type": "stream",
     "text": [
      "100%|██████████| 5000/5000 [00:00<00:00, 1800748.75it/s]\n"
     ]
    },
    {
     "name": "stdout",
     "output_type": "stream",
     "text": [
      "/content/drive/MyDrive/Lung_cancer_dec/lung_colon_image_set/lung_image_sets/lung_scc\n",
      "*************\n"
     ]
    },
    {
     "name": "stderr",
     "output_type": "stream",
     "text": [
      "100%|██████████| 5000/5000 [00:00<00:00, 1424211.88it/s]\n"
     ]
    },
    {
     "name": "stdout",
     "output_type": "stream",
     "text": [
      "/content/drive/MyDrive/Lung_cancer_dec/lung_colon_image_set/colon_image_sets/colon_aca\n",
      "*************\n"
     ]
    },
    {
     "name": "stderr",
     "output_type": "stream",
     "text": [
      "100%|██████████| 5000/5000 [00:00<00:00, 1024400.16it/s]\n"
     ]
    },
    {
     "name": "stdout",
     "output_type": "stream",
     "text": [
      "/content/drive/MyDrive/Lung_cancer_dec/lung_colon_image_set/colon_image_sets/colon_n\n",
      "*************\n"
     ]
    },
    {
     "name": "stderr",
     "output_type": "stream",
     "text": [
      "100%|██████████| 5000/5000 [00:00<00:00, 982180.59it/s]\n"
     ]
    }
   ],
   "source": [
    "# Define a list to hold image features\n",
    "features = []\n",
    "\n",
    "# Loop through the first directory of images\n",
    "for dir in os.listdir(data_1):\n",
    "    sub_dir = os.path.join(data_1,dir)\n",
    "    print(sub_dir)\n",
    "    print('*************')\n",
    "    # Loop through each image in the subdirectory\n",
    "    for img in tqdm(os.listdir(sub_dir)):\n",
    "        # Read the image file and resize it to (70,70)\n",
    "        f = cv2.imread(os.path.join(sub_dir , img))\n",
    "        #f = cv2.cvtColor(f , cv2.COLOR_BGR2GRAY)  # Optional: Convert to grayscale\n",
    "        f = cv2.resize(f , (70,70))\n",
    "        # Add the image to the list of features\n",
    "        features.append(f)\n",
    "        \n",
    "# Loop through the second directory of images\n",
    "for dir in os.listdir(data_2):\n",
    "    sub_dir = os.path.join(data_2,dir)\n",
    "    print(sub_dir)\n",
    "    print('*************')\n",
    "    # Loop through each image in the subdirectory\n",
    "    for img in tqdm(os.listdir(sub_dir)):\n",
    "        # Read the image file and resize it to (70,70)\n",
    "        f = cv2.imread(os.path.join(sub_dir , img))\n",
    "        #f = cv2.cvtColor(f , cv2.COLOR_BGR2GRAY)  # Optional: Convert to grayscale\n",
    "        f = cv2.resize(f , (70,70))\n",
    "        # Add the image to the list of features\n",
    "        features.append(f)\n",
    "\n",
    "# Define a list to hold labels for the images\n",
    "labels = []\n",
    "i = 0\n",
    "\n",
    "# Loop through the first directory of images\n",
    "for dir in os.listdir(data_1):\n",
    "    sub_dir = os.path.join(data_1,dir)\n",
    "    print(sub_dir)\n",
    "    print('*************')\n",
    "    # Loop through each image in the subdirectory and add its label to the list\n",
    "    for img in tqdm(os.listdir(sub_dir)):\n",
    "        labels.append(i)\n",
    "    i = i + 1\n",
    "    \n",
    "# Loop through the second directory of images\n",
    "for dir in os.listdir(data_2):\n",
    "    sub_dir = os.path.join(data_2,dir)\n",
    "    print(sub_dir)\n",
    "    print('*************')\n",
    "    # Loop through each image in the subdirectory and add its label to the list\n",
    "    for img in tqdm(os.listdir(sub_dir)):\n",
    "        labels.append(i)\n",
    "    i = i + 1"
   ]
  },
  {
   "cell_type": "code",
   "execution_count": 10,
   "metadata": {
    "colab": {
     "base_uri": "https://localhost:8080/"
    },
    "id": "spmsugA6NU2k",
    "outputId": "d370f8c8-c6a0-4885-b0bc-23ee7dd1770b"
   },
   "outputs": [
    {
     "name": "stdout",
     "output_type": "stream",
     "text": [
      "(25000, 70, 70, 3)\n"
     ]
    }
   ],
   "source": [
    " # convert image embeddings(features) to arrays\n",
    "import numpy as np\n",
    "X = np.array(features)\n",
    "print(X.shape)"
   ]
  },
  {
   "cell_type": "code",
   "execution_count": 11,
   "metadata": {
    "colab": {
     "base_uri": "https://localhost:8080/"
    },
    "id": "zJop8EE3PdKQ",
    "outputId": "93ff29e7-5427-4c07-a7b2-374f4699a35f"
   },
   "outputs": [
    {
     "name": "stdout",
     "output_type": "stream",
     "text": [
      "(25000,)\n"
     ]
    }
   ],
   "source": [
    "# convert labels to arrays\n",
    "Y = np.array(labels)\n",
    "print(Y.shape)"
   ]
  },
  {
   "cell_type": "code",
   "execution_count": 12,
   "metadata": {
    "colab": {
     "base_uri": "https://localhost:8080/"
    },
    "id": "PIgww9EcT_Lb",
    "outputId": "270727a9-c177-4e7a-a28b-3e0836fa27b2"
   },
   "outputs": [
    {
     "data": {
      "text/plain": [
       "array([0, 0, 0, ..., 4, 4, 4])"
      ]
     },
     "execution_count": 12,
     "metadata": {},
     "output_type": "execute_result"
    }
   ],
   "source": [
    "Y"
   ]
  },
  {
   "cell_type": "code",
   "execution_count": 13,
   "metadata": {
    "id": "MX6mlC1PPfzO"
   },
   "outputs": [],
   "source": [
    "#Split data to train and test set\n",
    "from sklearn.model_selection import train_test_split\n",
    "xtrain,xtest,ytrain,ytest = train_test_split(X,Y)"
   ]
  },
  {
   "cell_type": "code",
   "execution_count": 14,
   "metadata": {
    "id": "EKlgeMIrPgyq"
   },
   "outputs": [],
   "source": [
    "#Normalize the pixels with the max pixel\n",
    "xtrain = xtrain/xtrain.max()\n",
    "xtest = xtest/xtest.max()"
   ]
  },
  {
   "cell_type": "code",
   "execution_count": 15,
   "metadata": {
    "colab": {
     "base_uri": "https://localhost:8080/",
     "height": 268
    },
    "id": "Yu5fll1gPmbQ",
    "outputId": "3b438eda-6da3-4fd9-c2b8-7703d1b5132e"
   },
   "outputs": [
    {
     "data": {
      "image/png": "[encoded data removed]",
      "text/plain": [
       "<Figure size 432x288 with 1 Axes>"
      ]
     },
     "metadata": {
      "needs_background": "light"
     },
     "output_type": "display_data"
    }
   ],
   "source": [
    "#Randomly visualize an image\n",
    "plt.imshow(xtrain[15600])\n",
    "plt.show()"
   ]
  },
  {
   "cell_type": "code",
   "execution_count": 16,
   "metadata": {
    "id": "9Fc-w-ncPp9k"
   },
   "outputs": [],
   "source": [
    "#convert the labels to categorical data using one-hot encoding\n",
    "ytrain = tf.keras.utils.to_categorical(ytrain)\n",
    "ytest = tf.keras.utils.to_categorical(ytest)"
   ]
  },
  {
   "cell_type": "code",
   "execution_count": 17,
   "metadata": {
    "id": "PDECNqqjPqyb"
   },
   "outputs": [],
   "source": [
    "#Define a convolutional neural network model with several convolutional and max pooling layers\n",
    "model = models.Sequential()\n",
    "\n",
    "#Add a 2D convolutional layer with 32 filters, 3x3 kernel size, and ReLU activation function\n",
    "model.add(layers.Conv2D(32 ,(3,3) , padding = 'same' , input_shape = (70,70,3)))\n",
    "model.add(layers.Activation('relu'))\n",
    "\n",
    "#Add a max pooling layer with a pool size of 2x2\n",
    "model.add(layers.MaxPooling2D(pool_size=(2,2)))\n",
    "\n",
    "#Add another 2D convolutional layer with 64 filters and ReLU activation function\n",
    "model.add(layers.Conv2D(64 ,(3,3) , padding = 'same'))\n",
    "model.add(layers.Activation('relu'))\n",
    "\n",
    "#Add another max pooling layer with a pool size of 2x2\n",
    "model.add(layers.MaxPooling2D(pool_size=(2,2)))\n",
    "\n",
    "#Add another 2D convolutional layer with 128 filters and ReLU activation function\n",
    "model.add(layers.Conv2D(128 ,(3,3) , padding = 'same'))\n",
    "model.add(layers.Activation('relu'))\n",
    "\n",
    "#Add another max pooling layer with a pool size of 2x2\n",
    "model.add(layers.MaxPooling2D(pool_size=(2,2)))\n",
    "\n",
    "#Add another 2D convolutional layer with 256 filters and ReLU activation function\n",
    "model.add(layers.Conv2D(256 ,(3,3) , padding = 'same'))\n",
    "model.add(layers.Activation('relu'))\n",
    "\n",
    "#Add another max pooling layer with a pool size of 2x2\n",
    "model.add(layers.MaxPooling2D(pool_size=(2,2)))\n",
    "\n",
    "#Add another 2D convolutional layer with 512 filters and ReLU activation function\n",
    "model.add(layers.Conv2D(512 ,(3,3) , padding = 'same'))\n",
    "model.add(layers.Activation('relu'))\n",
    "\n",
    "#Add another max pooling layer with a pool size of 2x2\n",
    "model.add(layers.MaxPooling2D(pool_size=(2,2)))\n",
    "\n",
    "#Add another 2D convolutional layer with 1024 filters and ReLU activation function\n",
    "model.add(layers.Conv2D(1024 ,(3,3) , padding = 'same'))\n",
    "model.add(layers.Activation('relu'))\n",
    "\n",
    "#Add another max pooling layer with a pool size of 2x2\n",
    "model.add(layers.MaxPooling2D(pool_size=(2,2)))\n",
    "\n",
    "#Flatten the output of the convolutional layers\n",
    "model.add(layers.Flatten())\n",
    "\n",
    "#Add a fully connected dense layer with 512 units and ReLU activation function\n",
    "model.add(layers.Dense(512 , activation='relu' ))\n",
    "\n",
    "#Add an output layer with 5 units and sigmoid activation function to classify images into 5 categories\n",
    "model.add(layers.Dense(5, activation='sigmoid') )"
   ]
  },
  {
   "cell_type": "code",
   "execution_count": 18,
   "metadata": {
    "colab": {
     "base_uri": "https://localhost:8080/"
    },
    "id": "qMKAusVUQFTn",
    "outputId": "64bf3d4d-b99a-46a4-c42c-231f9300bd8d"
   },
   "outputs": [
    {
     "name": "stdout",
     "output_type": "stream",
     "text": [
      "Model: \"sequential\"\n",
      "_________________________________________________________________\n",
      " Layer (type)                Output Shape              Param #   \n",
      "=================================================================\n",
      " conv2d (Conv2D)             (None, 70, 70, 32)        896       \n",
      "                                                                 \n",
      " activation (Activation)     (None, 70, 70, 32)        0         \n",
      "                                                                 \n",
      " max_pooling2d (MaxPooling2D  (None, 35, 35, 32)       0         \n",
      " )                                                               \n",
      "                                                                 \n",
      " conv2d_1 (Conv2D)           (None, 35, 35, 64)        18496     \n",
      "                                                                 \n",
      " activation_1 (Activation)   (None, 35, 35, 64)        0         \n",
      "                                                                 \n",
      " max_pooling2d_1 (MaxPooling  (None, 17, 17, 64)       0         \n",
      " 2D)                                                             \n",
      "                                                                 \n",
      " conv2d_2 (Conv2D)           (None, 17, 17, 128)       73856     \n",
      "                                                                 \n",
      " activation_2 (Activation)   (None, 17, 17, 128)       0         \n",
      "                                                                 \n",
      " max_pooling2d_2 (MaxPooling  (None, 8, 8, 128)        0         \n",
      " 2D)                                                             \n",
      "                                                                 \n",
      " conv2d_3 (Conv2D)           (None, 8, 8, 256)         295168    \n",
      "                                                                 \n",
      " activation_3 (Activation)   (None, 8, 8, 256)         0         \n",
      "                                                                 \n",
      " max_pooling2d_3 (MaxPooling  (None, 4, 4, 256)        0         \n",
      " 2D)                                                             \n",
      "                                                                 \n",
      " conv2d_4 (Conv2D)           (None, 4, 4, 512)         1180160   \n",
      "                                                                 \n",
      " activation_4 (Activation)   (None, 4, 4, 512)         0         \n",
      "                                                                 \n",
      " max_pooling2d_4 (MaxPooling  (None, 2, 2, 512)        0         \n",
      " 2D)                                                             \n",
      "                                                                 \n",
      " conv2d_5 (Conv2D)           (None, 2, 2, 1024)        4719616   \n",
      "                                                                 \n",
      " activation_5 (Activation)   (None, 2, 2, 1024)        0         \n",
      "                                                                 \n",
      " max_pooling2d_5 (MaxPooling  (None, 1, 1, 1024)       0         \n",
      " 2D)                                                             \n",
      "                                                                 \n",
      " flatten (Flatten)           (None, 1024)              0         \n",
      "                                                                 \n",
      " dense (Dense)               (None, 512)               524800    \n",
      "                                                                 \n",
      " dense_1 (Dense)             (None, 5)                 2565      \n",
      "                                                                 \n",
      "=================================================================\n",
      "Total params: 6,815,557\n",
      "Trainable params: 6,815,557\n",
      "Non-trainable params: 0\n",
      "_________________________________________________________________\n"
     ]
    }
   ],
   "source": [
    "# Get model summary\n",
    "model.summary()"
   ]
  },
  {
   "cell_type": "code",
   "execution_count": 19,
   "metadata": {
    "id": "8et2dXgHQI8J"
   },
   "outputs": [],
   "source": [
    "# define evaluation parameters\n",
    "sgd = tf.keras.optimizers.SGD(0.01)\n",
    "model.compile(loss='categorical_crossentropy' , optimizer=sgd , metrics=['accuracy'])"
   ]
  },
  {
   "cell_type": "code",
   "execution_count": 20,
   "metadata": {
    "colab": {
     "base_uri": "https://localhost:8080/"
    },
    "id": "tXBWnOgiQKWA",
    "outputId": "d3a7afd3-e2d4-403d-ddfa-2d3dbfa1b757"
   },
   "outputs": [
    {
     "name": "stdout",
     "output_type": "stream",
     "text": [
      "Epoch 1/20\n",
      "586/586 [==============================] - 27s 23ms/step - loss: 1.2825 - accuracy: 0.4019 - val_loss: 0.9236 - val_accuracy: 0.5512\n",
      "Epoch 2/20\n",
      "586/586 [==============================] - 10s 18ms/step - loss: 0.8695 - accuracy: 0.6188 - val_loss: 0.6655 - val_accuracy: 0.8008\n",
      "Epoch 3/20\n",
      "586/586 [==============================] - 10s 18ms/step - loss: 0.6868 - accuracy: 0.7038 - val_loss: 0.5768 - val_accuracy: 0.7000\n",
      "Epoch 4/20\n",
      "586/586 [==============================] - 10s 18ms/step - loss: 0.5948 - accuracy: 0.7459 - val_loss: 0.4419 - val_accuracy: 0.8331\n",
      "Epoch 5/20\n",
      "586/586 [==============================] - 10s 17ms/step - loss: 0.5253 - accuracy: 0.7788 - val_loss: 0.4564 - val_accuracy: 0.8240\n",
      "Epoch 6/20\n",
      "586/586 [==============================] - 10s 18ms/step - loss: 0.4411 - accuracy: 0.8178 - val_loss: 0.4828 - val_accuracy: 0.7936\n",
      "Epoch 7/20\n",
      "586/586 [==============================] - 11s 18ms/step - loss: 0.4027 - accuracy: 0.8367 - val_loss: 0.3486 - val_accuracy: 0.8621\n",
      "Epoch 8/20\n",
      "586/586 [==============================] - 11s 18ms/step - loss: 0.3492 - accuracy: 0.8575 - val_loss: 0.2855 - val_accuracy: 0.8995\n",
      "Epoch 9/20\n",
      "586/586 [==============================] - 11s 18ms/step - loss: 0.3402 - accuracy: 0.8666 - val_loss: 0.2489 - val_accuracy: 0.9110\n",
      "Epoch 10/20\n",
      "586/586 [==============================] - 10s 17ms/step - loss: 0.2800 - accuracy: 0.8902 - val_loss: 0.2715 - val_accuracy: 0.8941\n",
      "Epoch 11/20\n",
      "586/586 [==============================] - 10s 18ms/step - loss: 0.2532 - accuracy: 0.8994 - val_loss: 0.2282 - val_accuracy: 0.9157\n",
      "Epoch 12/20\n",
      "586/586 [==============================] - 10s 18ms/step - loss: 0.2367 - accuracy: 0.9103 - val_loss: 0.1900 - val_accuracy: 0.9331\n",
      "Epoch 13/20\n",
      "586/586 [==============================] - 11s 18ms/step - loss: 0.2592 - accuracy: 0.9047 - val_loss: 0.1905 - val_accuracy: 0.9334\n",
      "Epoch 14/20\n",
      "586/586 [==============================] - 10s 18ms/step - loss: 0.2029 - accuracy: 0.9221 - val_loss: 0.1828 - val_accuracy: 0.9282\n",
      "Epoch 15/20\n",
      "586/586 [==============================] - 11s 18ms/step - loss: 0.1975 - accuracy: 0.9267 - val_loss: 0.4528 - val_accuracy: 0.8651\n",
      "Epoch 16/20\n",
      "586/586 [==============================] - 10s 18ms/step - loss: 0.1606 - accuracy: 0.9386 - val_loss: 0.1520 - val_accuracy: 0.9440\n",
      "Epoch 17/20\n",
      "586/586 [==============================] - 10s 18ms/step - loss: 0.1427 - accuracy: 0.9467 - val_loss: 0.1119 - val_accuracy: 0.9624\n",
      "Epoch 18/20\n",
      "586/586 [==============================] - 10s 18ms/step - loss: 0.1736 - accuracy: 0.9383 - val_loss: 0.1219 - val_accuracy: 0.9592\n",
      "Epoch 19/20\n",
      "586/586 [==============================] - 11s 18ms/step - loss: 0.1673 - accuracy: 0.9369 - val_loss: 0.1366 - val_accuracy: 0.9491\n",
      "Epoch 20/20\n",
      "586/586 [==============================] - 10s 18ms/step - loss: 0.1360 - accuracy: 0.9502 - val_loss: 0.1097 - val_accuracy: 0.9634\n"
     ]
    },
    {
     "data": {
      "text/plain": [
       "<keras.callbacks.History at 0x7fc5f01370d0>"
      ]
     },
     "execution_count": 20,
     "metadata": {},
     "output_type": "execute_result"
    }
   ],
   "source": [
    "#Train model\n",
    "model.fit(xtrain,ytrain,\n",
    "         epochs=20,\n",
    "         validation_data=(xtest,ytest))"
   ]
  },
  {
   "cell_type": "code",
   "execution_count": 21,
   "metadata": {
    "colab": {
     "base_uri": "https://localhost:8080/"
    },
    "id": "zEIb6X1MQRl8",
    "outputId": "9ec44eea-0720-4077-da90-791ca0dbcad6"
   },
   "outputs": [
    {
     "name": "stdout",
     "output_type": "stream",
     "text": [
      "196/196 [==============================] - 1s 6ms/step - loss: 0.1097 - accuracy: 0.9634\n"
     ]
    },
    {
     "data": {
      "text/plain": [
       "[0.10966627299785614, 0.9633600115776062]"
      ]
     },
     "execution_count": 21,
     "metadata": {},
     "output_type": "execute_result"
    }
   ],
   "source": [
    "#Check model's performance on test set\n",
    "model.evaluate(xtest,ytest)"
   ]
  },
  {
   "cell_type": "code",
   "execution_count": 22,
   "metadata": {
    "id": "tmo1CVXHQl3M"
   },
   "outputs": [],
   "source": [
    "#labels\n",
    "cancer_cells = ['lung_aca' , 'lung_scc' , 'lung_n' , 'colon_aca' , 'colon_n']"
   ]
  },
  {
   "cell_type": "code",
   "execution_count": 23,
   "metadata": {
    "colab": {
     "base_uri": "https://localhost:8080/"
    },
    "id": "FPIiCwIgQpQZ",
    "outputId": "90c8d830-2d31-4184-9765-e212cd7fa840"
   },
   "outputs": [
    {
     "name": "stdout",
     "output_type": "stream",
     "text": [
      "1/1 [==============================] - 0s 423ms/step\n"
     ]
    },
    {
     "data": {
      "text/plain": [
       "array([[0.9997019 , 0.68162656, 0.85807747, 0.08315635, 0.0015113 ]],\n",
       "      dtype=float32)"
      ]
     },
     "execution_count": 23,
     "metadata": {},
     "output_type": "execute_result"
    }
   ],
   "source": [
    "model.predict(xtest[689].reshape(1,70,70,3))"
   ]
  },
  {
   "cell_type": "code",
   "execution_count": 24,
   "metadata": {
    "colab": {
     "base_uri": "https://localhost:8080/",
     "height": 322
    },
    "id": "mNh61M4CQuZo",
    "outputId": "e3eafa1b-e63b-4983-927e-c436bea9039b"
   },
   "outputs": [
    {
     "name": "stdout",
     "output_type": "stream",
     "text": [
      "1/1 [==============================] - 0s 31ms/step\n",
      "Predicted Value- colon_n\n",
      "Real Value- colon_n\n"
     ]
    },
    {
     "data": {
      "image/png": "[encoded data removed]",
      "text/plain": [
       "<Figure size 432x288 with 1 Axes>"
      ]
     },
     "metadata": {
      "needs_background": "light"
     },
     "output_type": "display_data"
    }
   ],
   "source": [
    "print('Predicted Value-' , cancer_cells[np.argmax(model.predict(xtest[16].reshape(1,70,70,3)))])\n",
    "print('Real Value-' , cancer_cells[np.argmax(ytest[16])])\n",
    "\n",
    "plt.imshow(xtest[16])\n",
    "plt.show()"
   ]
  },
  {
   "cell_type": "code",
   "execution_count": 25,
   "metadata": {
    "id": "4bomfGXuQw-7"
   },
   "outputs": [],
   "source": [
    "model.save('c_celss.h5')"
   ]
  },
  {
   "cell_type": "code",
   "execution_count": 26,
   "metadata": {
    "colab": {
     "base_uri": "https://localhost:8080/"
    },
    "id": "oyeBdbH9ktbh",
    "outputId": "8e00b8f3-2a49-4929-a505-7713d285581b"
   },
   "outputs": [
    {
     "name": "stdout",
     "output_type": "stream",
     "text": [
      "196/196 [==============================] - 1s 5ms/step\n",
      "Classification Report:\n",
      "               precision    recall  f1-score   support\n",
      "\n",
      "           0       0.95      0.90      0.92      1257\n",
      "           1       0.99      0.99      0.99      1254\n",
      "           2       0.92      0.96      0.94      1258\n",
      "           3       0.96      0.99      0.98      1254\n",
      "           4       0.99      0.98      0.98      1227\n",
      "\n",
      "    accuracy                           0.96      6250\n",
      "   macro avg       0.96      0.96      0.96      6250\n",
      "weighted avg       0.96      0.96      0.96      6250\n",
      "\n",
      "Confusion Matrix:\n",
      " [[1131    7   99   20    0]\n",
      " [  15 1239    0    0    0]\n",
      " [  45    0 1213    0    0]\n",
      " [   0    2    0 1236   16]\n",
      " [   0    0    0   25 1202]]\n",
      "F1 Score: 0.9633550332276085\n"
     ]
    }
   ],
   "source": [
    "# Evaluate the model\n",
    "y_pred = model.predict(xtest)\n",
    "y_pred = np.argmax(y_pred, axis=1)\n",
    "y_true = np.argmax(ytest, axis=1)\n",
    "print('Classification Report:\\n', classification_report(y_true, y_pred)) #plot classification report\n",
    "print('Confusion Matrix:\\n', confusion_matrix(y_true, y_pred)) #plot confusion matrix\n",
    "print('F1 Score:', f1_score(y_true, y_pred, average='macro')) #print f1 socre"
   ]
  },
  {
   "cell_type": "code",
   "execution_count": 27,
   "metadata": {
    "colab": {
     "base_uri": "https://localhost:8080/"
    },
    "id": "LBdgGOwJoOzi",
    "outputId": "68f1b2c4-cd72-4d0a-b35d-6a0e2c32550e"
   },
   "outputs": [
    {
     "name": "stdout",
     "output_type": "stream",
     "text": [
      "Downloading data from https://storage.googleapis.com/tensorflow/keras-applications/resnet/resnet50_weights_tf_dim_ordering_tf_kernels_notop.h5\n",
      "94765736/94765736 [==============================] - 1s 0us/step\n",
      "Epoch 1/20\n",
      "586/586 [==============================] - 25s 34ms/step - loss: 1.1781 - accuracy: 0.4995 - val_loss: 0.9615 - val_accuracy: 0.5910\n",
      "Epoch 2/20\n",
      "586/586 [==============================] - 18s 31ms/step - loss: 0.9220 - accuracy: 0.6113 - val_loss: 0.8715 - val_accuracy: 0.6357\n",
      "Epoch 3/20\n",
      "586/586 [==============================] - 18s 32ms/step - loss: 0.8406 - accuracy: 0.6432 - val_loss: 0.7852 - val_accuracy: 0.6712\n",
      "Epoch 4/20\n",
      "586/586 [==============================] - 18s 30ms/step - loss: 0.7877 - accuracy: 0.6637 - val_loss: 0.7216 - val_accuracy: 0.6946\n",
      "Epoch 5/20\n",
      "586/586 [==============================] - 19s 32ms/step - loss: 0.7670 - accuracy: 0.6780 - val_loss: 0.7267 - val_accuracy: 0.6778\n",
      "Epoch 6/20\n",
      "586/586 [==============================] - 19s 32ms/step - loss: 0.7375 - accuracy: 0.6894 - val_loss: 0.7325 - val_accuracy: 0.6949\n",
      "Epoch 7/20\n",
      "586/586 [==============================] - 17s 30ms/step - loss: 0.7097 - accuracy: 0.7011 - val_loss: 0.7602 - val_accuracy: 0.6885\n",
      "Epoch 8/20\n",
      "586/586 [==============================] - 19s 32ms/step - loss: 0.6939 - accuracy: 0.7102 - val_loss: 0.6928 - val_accuracy: 0.7098\n",
      "Epoch 9/20\n",
      "586/586 [==============================] - 17s 30ms/step - loss: 0.6611 - accuracy: 0.7201 - val_loss: 0.6484 - val_accuracy: 0.7312\n",
      "Epoch 10/20\n",
      "586/586 [==============================] - 19s 32ms/step - loss: 0.6683 - accuracy: 0.7186 - val_loss: 0.6950 - val_accuracy: 0.7051\n",
      "Epoch 11/20\n",
      "586/586 [==============================] - 19s 32ms/step - loss: 0.6499 - accuracy: 0.7221 - val_loss: 0.6151 - val_accuracy: 0.7405\n",
      "Epoch 12/20\n",
      "586/586 [==============================] - 18s 30ms/step - loss: 0.6346 - accuracy: 0.7305 - val_loss: 0.6064 - val_accuracy: 0.7411\n",
      "Epoch 13/20\n",
      "586/586 [==============================] - 18s 31ms/step - loss: 0.6189 - accuracy: 0.7421 - val_loss: 0.6083 - val_accuracy: 0.7456\n",
      "Epoch 14/20\n",
      "586/586 [==============================] - 19s 32ms/step - loss: 0.6130 - accuracy: 0.7420 - val_loss: 0.6305 - val_accuracy: 0.7206\n",
      "Epoch 15/20\n",
      "586/586 [==============================] - 19s 32ms/step - loss: 0.6014 - accuracy: 0.7456 - val_loss: 0.5679 - val_accuracy: 0.7581\n",
      "Epoch 16/20\n",
      "586/586 [==============================] - 19s 32ms/step - loss: 0.6055 - accuracy: 0.7433 - val_loss: 0.6225 - val_accuracy: 0.7363\n",
      "Epoch 17/20\n",
      "586/586 [==============================] - 19s 32ms/step - loss: 0.6022 - accuracy: 0.7465 - val_loss: 0.6237 - val_accuracy: 0.7398\n",
      "Epoch 18/20\n",
      "586/586 [==============================] - 18s 30ms/step - loss: 0.5977 - accuracy: 0.7457 - val_loss: 0.5931 - val_accuracy: 0.7461\n",
      "Epoch 19/20\n",
      "586/586 [==============================] - 19s 33ms/step - loss: 0.5728 - accuracy: 0.7567 - val_loss: 0.5723 - val_accuracy: 0.7496\n",
      "Epoch 20/20\n",
      "586/586 [==============================] - 19s 33ms/step - loss: 0.6002 - accuracy: 0.7463 - val_loss: 0.6306 - val_accuracy: 0.7272\n",
      "196/196 [==============================] - 4s 22ms/step - loss: 0.6306 - accuracy: 0.7272\n",
      "Test accuracy: 0.727\n"
     ]
    }
   ],
   "source": [
    "from tensorflow.keras.applications.resnet50 import ResNet50\n",
    "from tensorflow.keras.layers import Dense, Flatten\n",
    "from tensorflow.keras.models import Model\n",
    "\n",
    "# load the ResNet50 model\n",
    "ResNet_model = ResNet50(weights='imagenet', include_top=False, input_shape=(70, 70, 3))\n",
    "\n",
    "# freeze the weights of the pretrained layers\n",
    "for layer in ResNet_model.layers:\n",
    "    layer.trainable = False\n",
    "\n",
    "# add custom classification layers\n",
    "x = Flatten()(ResNet_model.output)\n",
    "x = Dense(128, activation='relu')(x)\n",
    "x = Dense(64, activation='relu')(x)\n",
    "output = Dense(5, activation='softmax')(x)\n",
    "\n",
    "# create the model\n",
    "res_model = Model(inputs=ResNet_model.input, outputs=output)\n",
    "\n",
    "# compile the model\n",
    "res_model.compile(loss='categorical_crossentropy', optimizer='adam', metrics=['accuracy'])\n",
    "\n",
    "# train the model\n",
    "history = res_model.fit(xtrain, ytrain, epochs=20, batch_size=32, validation_data=(xtest, ytest))\n",
    "\n",
    "# evaluate the model\n",
    "loss, acc = res_model.evaluate(xtest, ytest)\n",
    "print(f'Test accuracy: {acc:.3f}')\n"
   ]
  },
  {
   "cell_type": "code",
   "execution_count": 28,
   "metadata": {
    "colab": {
     "base_uri": "https://localhost:8080/"
    },
    "id": "hUj_CB-Np9Cr",
    "outputId": "170f4fe9-f1de-4d02-aaec-ee5d113f60d6"
   },
   "outputs": [
    {
     "name": "stdout",
     "output_type": "stream",
     "text": [
      "196/196 [==============================] - 5s 21ms/step\n",
      "Classification Report:\n",
      "               precision    recall  f1-score   support\n",
      "\n",
      "           0       0.78      0.45      0.57      1257\n",
      "           1       0.70      0.97      0.82      1254\n",
      "           2       0.77      0.92      0.84      1258\n",
      "           3       0.85      0.42      0.56      1254\n",
      "           4       0.64      0.88      0.75      1227\n",
      "\n",
      "    accuracy                           0.73      6250\n",
      "   macro avg       0.75      0.73      0.71      6250\n",
      "weighted avg       0.75      0.73      0.71      6250\n",
      "\n",
      "Confusion Matrix:\n",
      " [[ 568  376  265   13   35]\n",
      " [  15 1219   10    0   10]\n",
      " [  70   30 1152    2    4]\n",
      " [  54   73   56  521  550]\n",
      " [  17   33   15   77 1085]]\n",
      "F1 Score: 0.705951057769455\n"
     ]
    }
   ],
   "source": [
    "# Evaluate the model\n",
    "y_pred = res_model.predict(xtest)\n",
    "y_pred = np.argmax(y_pred, axis=1)\n",
    "y_true = np.argmax(ytest, axis=1)\n",
    "print('Classification Report:\\n', classification_report(y_true, y_pred)) #plot classification report\n",
    "print('Confusion Matrix:\\n', confusion_matrix(y_true, y_pred)) #plot confusion matrix\n",
    "print('F1 Score:', f1_score(y_true, y_pred, average='macro')) #print f1_score"
   ]
  },
  {
   "cell_type": "code",
   "execution_count": 29,
   "metadata": {
    "colab": {
     "base_uri": "https://localhost:8080/"
    },
    "id": "t_as8u_9urRN",
    "outputId": "2d68158c-6b67-43da-eecf-e7cddb3a266e"
   },
   "outputs": [
    {
     "name": "stdout",
     "output_type": "stream",
     "text": [
      "Downloading data from https://storage.googleapis.com/tensorflow/keras-applications/vgg16/vgg16_weights_tf_dim_ordering_tf_kernels_notop.h5\n",
      "58889256/58889256 [==============================] - 0s 0us/step\n",
      "Epoch 1/20\n",
      "586/586 [==============================] - 21s 32ms/step - loss: 0.2875 - accuracy: 0.8937 - val_loss: 0.2138 - val_accuracy: 0.9230\n",
      "Epoch 2/20\n",
      "586/586 [==============================] - 16s 27ms/step - loss: 0.1565 - accuracy: 0.9388 - val_loss: 0.1284 - val_accuracy: 0.9538\n",
      "Epoch 3/20\n",
      "586/586 [==============================] - 17s 29ms/step - loss: 0.1367 - accuracy: 0.9476 - val_loss: 0.1081 - val_accuracy: 0.9595\n",
      "Epoch 4/20\n",
      "586/586 [==============================] - 16s 27ms/step - loss: 0.1071 - accuracy: 0.9573 - val_loss: 0.1534 - val_accuracy: 0.9413\n",
      "Epoch 5/20\n",
      "586/586 [==============================] - 16s 27ms/step - loss: 0.0917 - accuracy: 0.9649 - val_loss: 0.1479 - val_accuracy: 0.9446\n",
      "Epoch 6/20\n",
      "586/586 [==============================] - 17s 29ms/step - loss: 0.0803 - accuracy: 0.9674 - val_loss: 0.1193 - val_accuracy: 0.9576\n",
      "Epoch 7/20\n",
      "586/586 [==============================] - 16s 27ms/step - loss: 0.0716 - accuracy: 0.9719 - val_loss: 0.1089 - val_accuracy: 0.9614\n",
      "Epoch 8/20\n",
      "586/586 [==============================] - 16s 26ms/step - loss: 0.0705 - accuracy: 0.9731 - val_loss: 0.1455 - val_accuracy: 0.9467\n",
      "Epoch 9/20\n",
      "586/586 [==============================] - 17s 29ms/step - loss: 0.0625 - accuracy: 0.9749 - val_loss: 0.1492 - val_accuracy: 0.9592\n",
      "Epoch 10/20\n",
      "586/586 [==============================] - 16s 27ms/step - loss: 0.0557 - accuracy: 0.9797 - val_loss: 0.1138 - val_accuracy: 0.9638\n",
      "Epoch 11/20\n",
      "586/586 [==============================] - 16s 27ms/step - loss: 0.0468 - accuracy: 0.9817 - val_loss: 0.1379 - val_accuracy: 0.9554\n",
      "Epoch 12/20\n",
      "586/586 [==============================] - 16s 27ms/step - loss: 0.0437 - accuracy: 0.9829 - val_loss: 0.1290 - val_accuracy: 0.9594\n",
      "Epoch 13/20\n",
      "586/586 [==============================] - 15s 26ms/step - loss: 0.0454 - accuracy: 0.9831 - val_loss: 0.1399 - val_accuracy: 0.9554\n",
      "Epoch 14/20\n",
      "586/586 [==============================] - 17s 29ms/step - loss: 0.0367 - accuracy: 0.9869 - val_loss: 0.1068 - val_accuracy: 0.9696\n",
      "Epoch 15/20\n",
      "586/586 [==============================] - 17s 29ms/step - loss: 0.0387 - accuracy: 0.9850 - val_loss: 0.1043 - val_accuracy: 0.9651\n",
      "Epoch 16/20\n",
      "586/586 [==============================] - 17s 29ms/step - loss: 0.0366 - accuracy: 0.9861 - val_loss: 0.0868 - val_accuracy: 0.9730\n",
      "Epoch 17/20\n",
      "586/586 [==============================] - 17s 29ms/step - loss: 0.0360 - accuracy: 0.9867 - val_loss: 0.1292 - val_accuracy: 0.9613\n",
      "Epoch 18/20\n",
      "586/586 [==============================] - 17s 29ms/step - loss: 0.0323 - accuracy: 0.9878 - val_loss: 0.1420 - val_accuracy: 0.9600\n",
      "Epoch 19/20\n",
      "586/586 [==============================] - 17s 29ms/step - loss: 0.0239 - accuracy: 0.9910 - val_loss: 0.1110 - val_accuracy: 0.9726\n",
      "Epoch 20/20\n",
      "586/586 [==============================] - 16s 27ms/step - loss: 0.0290 - accuracy: 0.9886 - val_loss: 0.1038 - val_accuracy: 0.9715\n"
     ]
    }
   ],
   "source": [
    "from keras.applications import VGG16\n",
    "\n",
    "# load the pre-trained model\n",
    "pre_trained_model = VGG16(weights='imagenet', include_top=False, input_shape=(70, 70, 3))\n",
    "\n",
    "# freeze the layers of the pre-trained model\n",
    "for layer in pre_trained_model.layers:\n",
    "    layer.trainable = False\n",
    "\n",
    "# build the final model by adding a few dense layers on top of the pre-trained model\n",
    "vgg_model = tf.keras.models.Sequential([\n",
    "    pre_trained_model,\n",
    "    tf.keras.layers.Flatten(),\n",
    "    tf.keras.layers.Dense(256, activation='relu'),\n",
    "    tf.keras.layers.Dense(128, activation='relu'),\n",
    "    tf.keras.layers.Dense(5, activation='softmax')\n",
    "])\n",
    "\n",
    "# compile the model\n",
    "vgg_model.compile(optimizer='adam', loss='categorical_crossentropy', metrics=['accuracy'])\n",
    "\n",
    "# fit the model\n",
    "history = vgg_model.fit(xtrain, ytrain, epochs=20, batch_size=32, validation_data=(xtest, ytest))\n",
    "\n"
   ]
  },
  {
   "cell_type": "code",
   "execution_count": 30,
   "metadata": {
    "colab": {
     "base_uri": "https://localhost:8080/"
    },
    "id": "k9kzkMO3u58k",
    "outputId": "f9e55afb-0544-45a2-ffa3-fd13fce12434"
   },
   "outputs": [
    {
     "name": "stdout",
     "output_type": "stream",
     "text": [
      "196/196 [==============================] - 4s 17ms/step\n",
      "Classification Report:\n",
      "               precision    recall  f1-score   support\n",
      "\n",
      "           0       0.96      0.95      0.96      1257\n",
      "           1       0.99      1.00      1.00      1254\n",
      "           2       0.96      0.97      0.97      1258\n",
      "           3       0.95      0.98      0.96      1254\n",
      "           4       1.00      0.95      0.97      1227\n",
      "\n",
      "    accuracy                           0.97      6250\n",
      "   macro avg       0.97      0.97      0.97      6250\n",
      "weighted avg       0.97      0.97      0.97      6250\n",
      "\n",
      "Confusion Matrix:\n",
      " [[1197    4   48    8    0]\n",
      " [   1 1253    0    0    0]\n",
      " [  30    0 1225    3    0]\n",
      " [  13    4    4 1231    2]\n",
      " [   3    0    0   58 1166]]\n",
      "F1 Score: 0.9715562568550935\n"
     ]
    }
   ],
   "source": [
    "# Evaluate the model\n",
    "y_pred = vgg_model.predict(xtest)\n",
    "y_pred = np.argmax(y_pred, axis=1)\n",
    "y_true = np.argmax(ytest, axis=1)\n",
    "print('Classification Report:\\n', classification_report(y_true, y_pred)) #plot classification report\n",
    "print('Confusion Matrix:\\n', confusion_matrix(y_true, y_pred)) #plot confusion matric\n",
    "print('F1 Score:', f1_score(y_true, y_pred, average='macro')) #Print f1 score"
   ]
  },
  {
   "cell_type": "code",
   "execution_count": 31,
   "metadata": {
    "colab": {
     "base_uri": "https://localhost:8080/",
     "height": 143
    },
    "id": "avbzkz7YhoOx",
    "outputId": "dc2e4f26-68c3-4d8f-fbd7-4d6ab6a81ce0"
   },
   "outputs": [
    {
     "data": {
      "text/html": [
       "\n",
       "  <div id=\"df-19e9ed57-e289-409b-b762-9bdbf035bd84\">\n",
       "    <div class=\"colab-df-container\">\n",
       "      <div>\n",
       "<style scoped>\n",
       "    .dataframe tbody tr th:only-of-type {\n",
       "        vertical-align: middle;\n",
       "    }\n",
       "\n",
       "    .dataframe tbody tr th {\n",
       "        vertical-align: top;\n",
       "    }\n",
       "\n",
       "    .dataframe thead th {\n",
       "        text-align: right;\n",
       "    }\n",
       "</style>\n",
       "<table border=\"1\" class=\"dataframe\">\n",
       "  <thead>\n",
       "    <tr style=\"text-align: right;\">\n",
       "      <th></th>\n",
       "      <th>Model</th>\n",
       "      <th>Accuracy</th>\n",
       "      <th>F1 Score</th>\n",
       "    </tr>\n",
       "  </thead>\n",
       "  <tbody>\n",
       "    <tr>\n",
       "      <th>0</th>\n",
       "      <td>Simple CNN</td>\n",
       "      <td>0.93</td>\n",
       "      <td>0.93</td>\n",
       "    </tr>\n",
       "    <tr>\n",
       "      <th>1</th>\n",
       "      <td>ResNet</td>\n",
       "      <td>0.73</td>\n",
       "      <td>0.72</td>\n",
       "    </tr>\n",
       "    <tr>\n",
       "      <th>2</th>\n",
       "      <td>VGG16</td>\n",
       "      <td>0.97</td>\n",
       "      <td>0.97</td>\n",
       "    </tr>\n",
       "  </tbody>\n",
       "</table>\n",
       "</div>\n",
       "      <button class=\"colab-df-convert\" onclick=\"convertToInteractive('df-19e9ed57-e289-409b-b762-9bdbf035bd84')\"\n",
       "              title=\"Convert this dataframe to an interactive table.\"\n",
       "              style=\"display:none;\">\n",
       "        \n",
       "  <svg xmlns=\"http://www.w3.org/2000/svg\" height=\"24px\"viewBox=\"0 0 24 24\"\n",
       "       width=\"24px\">\n",
       "    <path d=\"M0 0h24v24H0V0z\" fill=\"none\"/>\n",
       "    <path d=\"M18.56 5.44l.94 2.06.94-2.06 2.06-.94-2.06-.94-.94-2.06-.94 2.06-2.06.94zm-11 1L8.5 8.5l.94-2.06 2.06-.94-2.06-.94L8.5 2.5l-.94 2.06-2.06.94zm10 10l.94 2.06.94-2.06 2.06-.94-2.06-.94-.94-2.06-.94 2.06-2.06.94z\"/><path d=\"M17.41 7.96l-1.37-1.37c-.4-.4-.92-.59-1.43-.59-.52 0-1.04.2-1.43.59L10.3 9.45l-7.72 7.72c-.78.78-.78 2.05 0 2.83L4 21.41c.39.39.9.59 1.41.59.51 0 1.02-.2 1.41-.59l7.78-7.78 2.81-2.81c.8-.78.8-2.07 0-2.86zM5.41 20L4 18.59l7.72-7.72 1.47 1.35L5.41 20z\"/>\n",
       "  </svg>\n",
       "      </button>\n",
       "      \n",
       "  <style>\n",
       "    .colab-df-container {\n",
       "      display:flex;\n",
       "      flex-wrap:wrap;\n",
       "      gap: 12px;\n",
       "    }\n",
       "\n",
       "    .colab-df-convert {\n",
       "      background-color: #E8F0FE;\n",
       "      border: none;\n",
       "      border-radius: 50%;\n",
       "      cursor: pointer;\n",
       "      display: none;\n",
       "      fill: #1967D2;\n",
       "      height: 32px;\n",
       "      padding: 0 0 0 0;\n",
       "      width: 32px;\n",
       "    }\n",
       "\n",
       "    .colab-df-convert:hover {\n",
       "      background-color: #E2EBFA;\n",
       "      box-shadow: 0px 1px 2px rgba(60, 64, 67, 0.3), 0px 1px 3px 1px rgba(60, 64, 67, 0.15);\n",
       "      fill: #174EA6;\n",
       "    }\n",
       "\n",
       "    [theme=dark] .colab-df-convert {\n",
       "      background-color: #3B4455;\n",
       "      fill: #D2E3FC;\n",
       "    }\n",
       "\n",
       "    [theme=dark] .colab-df-convert:hover {\n",
       "      background-color: #434B5C;\n",
       "      box-shadow: 0px 1px 3px 1px rgba(0, 0, 0, 0.15);\n",
       "      filter: drop-shadow(0px 1px 2px rgba(0, 0, 0, 0.3));\n",
       "      fill: #FFFFFF;\n",
       "    }\n",
       "  </style>\n",
       "\n",
       "      <script>\n",
       "        const buttonEl =\n",
       "          document.querySelector('#df-19e9ed57-e289-409b-b762-9bdbf035bd84 button.colab-df-convert');\n",
       "        buttonEl.style.display =\n",
       "          google.colab.kernel.accessAllowed ? 'block' : 'none';\n",
       "\n",
       "        async function convertToInteractive(key) {\n",
       "          const element = document.querySelector('#df-19e9ed57-e289-409b-b762-9bdbf035bd84');\n",
       "          const dataTable =\n",
       "            await google.colab.kernel.invokeFunction('convertToInteractive',\n",
       "                                                     [key], {});\n",
       "          if (!dataTable) return;\n",
       "\n",
       "          const docLinkHtml = 'Like what you see? Visit the ' +\n",
       "            '<a target=\"_blank\" href=https://colab.research.google.com/notebooks/data_table.ipynb>data table notebook</a>'\n",
       "            + ' to learn more about interactive tables.';\n",
       "          element.innerHTML = '';\n",
       "          dataTable['output_type'] = 'display_data';\n",
       "          await google.colab.output.renderOutput(dataTable, element);\n",
       "          const docLink = document.createElement('div');\n",
       "          docLink.innerHTML = docLinkHtml;\n",
       "          element.appendChild(docLink);\n",
       "        }\n",
       "      </script>\n",
       "    </div>\n",
       "  </div>\n",
       "  "
      ],
      "text/plain": [
       "        Model  Accuracy  F1 Score\n",
       "0  Simple CNN      0.93      0.93\n",
       "1      ResNet      0.73      0.72\n",
       "2       VGG16      0.97      0.97"
      ]
     },
     "execution_count": 31,
     "metadata": {},
     "output_type": "execute_result"
    }
   ],
   "source": [
    "df_model_eval = pd.read_csv(\"/content/drive/MyDrive/Lung_cancer_dec/eval_result.csv\")\n",
    "df_model_eval.head()"
   ]
  }
 ],
 "metadata": {
  "accelerator": "GPU",
  "colab": {
   "provenance": []
  },
  "gpuClass": "standard",
  "kernelspec": {
   "display_name": "Python 3 (ipykernel)",
   "language": "python",
   "name": "python3"
  },
  "language_info": {
   "codemirror_mode": {
    "name": "ipython",
    "version": 3
   },
   "file_extension": ".py",
   "mimetype": "text/x-python",
   "name": "python",
   "nbconvert_exporter": "python",
   "pygments_lexer": "ipython3",
   "version": "3.9.12"
  }
 },
 "nbformat": 4,
 "nbformat_minor": 1
}
